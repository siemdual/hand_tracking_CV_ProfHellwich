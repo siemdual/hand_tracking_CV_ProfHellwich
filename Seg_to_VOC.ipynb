{
  "nbformat": 4,
  "nbformat_minor": 0,
  "metadata": {
    "colab": {
      "name": "Seg_to_VOC.ipynb",
      "provenance": [],
      "collapsed_sections": []
    },
    "kernelspec": {
      "name": "python3",
      "display_name": "Python 3"
    },
    "language_info": {
      "name": "python"
    }
  },
  "cells": [
    {
      "cell_type": "code",
      "metadata": {
        "id": "cfQC3SfgM2D3",
        "colab": {
          "base_uri": "https://localhost:8080/",
          "height": 286
        },
        "outputId": "9b4e720f-a11d-405c-e699-2b8f4ea591e5"
      },
      "source": [
        "import numpy as np\n",
        "import cv2\n",
        "import matplotlib.pyplot as plt\n",
        "%matplotlib inline  \n",
        "\n",
        "# reads image 'opencv-logo.png' as grayscale\n",
        "img = cv2.imread('/content/00000.png', 0) \n",
        "plt.imshow(img, cmap='gray')"
      ],
      "execution_count": null,
      "outputs": [
        {
          "output_type": "execute_result",
          "data": {
            "text/plain": [
              "<matplotlib.image.AxesImage at 0x7f2564989b10>"
            ]
          },
          "metadata": {
            "tags": []
          },
          "execution_count": 22
        },
        {
          "output_type": "display_data",
          "data": {
            "image/png": "[encoded data removed]",
            "text/plain": [
              "<Figure size 432x288 with 1 Axes>"
            ]
          },
          "metadata": {
            "tags": [],
            "needs_background": "light"
          }
        }
      ]
    },
    {
      "cell_type": "code",
      "metadata": {
        "id": "2XKRcIc-UbXQ"
      },
      "source": [
        "segmentation_values = [17] #left palm=17, right palm =33\n"
      ],
      "execution_count": null,
      "outputs": []
    },
    {
      "cell_type": "code",
      "metadata": {
        "id": "CpuvLal5Za_Q"
      },
      "source": [
        "def find_min(img, seg_value):\n",
        "  rows,cols = img.shape\n",
        "  xmin=-1\n",
        "  ymin=-1\n",
        "  for i in range(rows):\n",
        "      for j in range(cols):\n",
        "         if img[i,j]==seg_value:\n",
        "           ymin=i\n",
        "           for k in range(j):\n",
        "             for l in range(ymin,rows):\n",
        "               if img[l,k]==seg_value:\n",
        "                 xmin=k\n",
        "                 return ymin, xmin \n",
        "  return ymin, xmin\n",
        "\n",
        "def find_max(img, seg_value):\n",
        "  rows,cols = img.shape\n",
        "  xmax=-1\n",
        "  ymax=-1\n",
        "  for i in range(rows-1,0,-1):\n",
        "      for j in range(cols-1,0,-1):\n",
        "         if img[i,j]==seg_value:\n",
        "           ymax=i\n",
        "           for k in range(cols-1,j,-1):\n",
        "             for l in range(ymax,0,-1):\n",
        "               if img[l,k]==seg_value:\n",
        "                 xmax=k\n",
        "                 return ymax, xmax\n",
        "  return ymax, xmax"
      ],
      "execution_count": null,
      "outputs": []
    },
    {
      "cell_type": "code",
      "metadata": {
        "colab": {
          "base_uri": "https://localhost:8080/",
          "height": 286
        },
        "id": "gs76w3I6dWfO",
        "outputId": "e1dd76ee-8459-4780-feaf-3e4b70efff68"
      },
      "source": [
        "for value in segmentation_values:\n",
        "  \n",
        "  ymax, xmax= find_max(img,value)\n",
        "  ymin, xmin= find_min(img,value)\n",
        "\n",
        "  print(ymax, ymin, xmax, xmin)\n",
        "\n",
        "  if ymax!=-1:\n",
        "\n",
        "    new_img = img.copy()\n",
        "    # Draw a diagonal blue line with thickness of 5 px\n",
        "    cv2.line(new_img,(xmin,ymin),(xmin,ymax),(55,0,0),2)\n",
        "    cv2.line(new_img,(xmin,ymax),(xmax,ymax),(55,0,0),2)\n",
        "    cv2.line(new_img,(xmin,ymin),(xmax,ymin),(55,0,0),2)\n",
        "    cv2.line(new_img,(xmax,ymin),(xmax,ymax),(55,0,0),2)\n",
        "\n",
        "    plt.imshow(new_img, cmap='gray')\n",
        "\n"
      ],
      "execution_count": null,
      "outputs": [
        {
          "output_type": "stream",
          "text": [
            "197 176 198 160\n"
          ],
          "name": "stdout"
        },
        {
          "output_type": "display_data",
          "data": {
            "image/png": "[encoded data removed]",
            "text/plain": [
              "<Figure size 432x288 with 1 Axes>"
            ]
          },
          "metadata": {
            "tags": [],
            "needs_background": "light"
          }
        }
      ]
    },
    {
      "cell_type": "code",
      "metadata": {
        "id": "phG2ja0O0UEg"
      },
      "source": [
        ""
      ],
      "execution_count": null,
      "outputs": []
    },
    {
      "cell_type": "markdown",
      "metadata": {
        "id": "inCFZ7cIJ0Ye"
      },
      "source": [
        "# create xml VOC files"
      ]
    },
    {
      "cell_type": "code",
      "metadata": {
        "id": "wSLOOxJLLB4R",
        "colab": {
          "base_uri": "https://localhost:8080/"
        },
        "outputId": "19ffb819-1731-4660-a7d8-087e8eddb17a"
      },
      "source": [
        "#import xml.etree.cElementTree as ET\n",
        "from lxml import etree as ET\n",
        "from pathlib import Path\n",
        "import glob\n",
        "import numpy as np\n",
        "import cv2\n",
        "import matplotlib.pyplot as plt\n",
        "\n",
        "reference_path= '/content/drive/MyDrive/Validation/color'\n",
        "input_folder_path = '/content/drive/MyDrive/Validation/mask'\n",
        "!mkdir /content/drive/MyDrive/Validation/VOC\n",
        "output_folder_path = '/content/drive/MyDrive/Validation/VOC'\n",
        "\n",
        "images = [img for img in Path(input_folder_path).glob('*.png')] #images in folder\n",
        "images_number = len(images)\n",
        "\n",
        "calc_step =1 #calculation step in images\n",
        "\n",
        "#iterate through all images in folder\n",
        "for path in images:\n",
        "  #reads image as grayscale\n",
        "  img = cv2.imread(str(path), 0) \n",
        "  height, width = img.shape\n",
        "\n",
        "  #build VOC elementTree\n",
        "  annotation = ET.Element(\"annotation\")\n",
        "  ET.SubElement(annotation, \"folder\").text = Path(reference_path).stem\n",
        "  ET.SubElement(annotation, \"filename\").text = Path(path).name\n",
        "  ET.SubElement(annotation, \"path\").text = reference_path+'/'+Path(path).name\n",
        "  source = ET.SubElement(annotation, \"source\")\n",
        "  ET.SubElement(source, \"database\").text = 'Unknown'\n",
        "  size = ET.SubElement(annotation, \"size\")\n",
        "  ET.SubElement(size, \"width\").text = str(width)\n",
        "  ET.SubElement(size, \"height\").text = str(height)\n",
        "  ET.SubElement(size, \"depth\").text = '3'\n",
        "  ET.SubElement(annotation, \"segmented\").text = '0'\n",
        "\n",
        "\n",
        "  #segmentation values for left palm=17, right palm=33\n",
        "  seg_values = [17, 33]\n",
        "  seg_names = ['left_palm', 'right_palm']\n",
        "  #array of object elements in tree\n",
        "  objects = [ET.SubElement(annotation, \"object\"),ET.SubElement(annotation, \"object\")]\n",
        "\n",
        "  #iterate trough seg_values\n",
        "  for i in range(len(seg_values)):\n",
        "    #detect coordinates of bounding box\n",
        "    ymax, xmax= find_max(img,seg_values[i])\n",
        "    ymin, xmin= find_min(img,seg_values[i])\n",
        "\n",
        "    if ymax!=-1 and ymin!=-1:\n",
        "      ET.SubElement(objects[i], \"name\").text = seg_names[i]\n",
        "      ET.SubElement(objects[i], \"pose\").text = 'Unspecified'\n",
        "      ET.SubElement(objects[i], \"truncated\").text = '0'\n",
        "      ET.SubElement(objects[i], \"difficult\").text = '0'\n",
        "      bndbox = ET.SubElement(objects[i], \"bndbox\")\n",
        "      ET.SubElement(bndbox, \"xmin\").text = str(xmin)\n",
        "      ET.SubElement(bndbox, \"ymin\").text = str(ymin)\n",
        "      ET.SubElement(bndbox, \"xmax\").text = str(xmax)\n",
        "      ET.SubElement(bndbox, \"ymax\").text = str(ymax)\n",
        "\n",
        "    else:\n",
        "      annotation.remove(objects[i])\n",
        "    \n",
        "  #print calculation \n",
        "  if calc_step%100==0:\n",
        "    print('Handled '+str(calc_step)+'/'+str(images_number)+' pictures.')\n",
        "  calc_step += 1 #increase calculation step\n",
        "\n",
        "\n",
        "\n",
        "  #write xml file to\n",
        "  tree = ET.ElementTree(annotation)\n",
        "  tree.write( output_folder_path +'/'+ path.stem+\".xml\", pretty_print=True)\n",
        "\n",
        "\n",
        "\n",
        "\n",
        "\n"
      ],
      "execution_count": null,
      "outputs": [
        {
          "output_type": "stream",
          "text": [
            "Handled 100/2728 pictures.\n",
            "Handled 200/2728 pictures.\n",
            "Handled 300/2728 pictures.\n",
            "Handled 400/2728 pictures.\n",
            "Handled 500/2728 pictures.\n",
            "Handled 600/2728 pictures.\n",
            "Handled 700/2728 pictures.\n",
            "Handled 800/2728 pictures.\n",
            "Handled 900/2728 pictures.\n",
            "Handled 1000/2728 pictures.\n",
            "Handled 1100/2728 pictures.\n",
            "Handled 1200/2728 pictures.\n",
            "Handled 1300/2728 pictures.\n",
            "Handled 1400/2728 pictures.\n",
            "Handled 1500/2728 pictures.\n",
            "Handled 1600/2728 pictures.\n",
            "Handled 1700/2728 pictures.\n",
            "Handled 1800/2728 pictures.\n",
            "Handled 1900/2728 pictures.\n",
            "Handled 2000/2728 pictures.\n",
            "Handled 2100/2728 pictures.\n",
            "Handled 2200/2728 pictures.\n",
            "Handled 2300/2728 pictures.\n",
            "Handled 2400/2728 pictures.\n",
            "Handled 2500/2728 pictures.\n",
            "Handled 2600/2728 pictures.\n",
            "Handled 2700/2728 pictures.\n"
          ],
          "name": "stdout"
        }
      ]
    },
    {
      "cell_type": "code",
      "metadata": {
        "id": "T5jznxCh_NhX"
      },
      "source": [
        "while True:pass"
      ],
      "execution_count": null,
      "outputs": []
    }
  ]
}